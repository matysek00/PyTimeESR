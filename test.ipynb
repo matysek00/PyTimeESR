{
 "cells": [
  {
   "cell_type": "code",
   "execution_count": 1,
   "metadata": {},
   "outputs": [],
   "source": [
    "import sys\n",
    "\n",
    "import PyTimeESR"
   ]
  },
  {
   "cell_type": "code",
   "execution_count": 2,
   "metadata": {},
   "outputs": [
    {
     "name": "stdout",
     "output_type": "stream",
     "text": [
      "lambda,delta,h,w,ss = hamiltonian(n_in,n_block,hloc,spinaxis,gyro,spin,b20,b22,b40,b44,jexch,mol1,mol2,n)\n",
      "\n",
      "Wrapper for ``hamiltonian``.\n",
      "\n",
      "Parameters\n",
      "----------\n",
      "n_in : input rank-1 array('i') with bounds (nm)\n",
      "n_block : input rank-1 array('i') with bounds (nm)\n",
      "hloc : input rank-2 array('d') with bounds (nm,3)\n",
      "spinaxis : input rank-2 array('d') with bounds (nm,3)\n",
      "gyro : input rank-2 array('d') with bounds (nm,3)\n",
      "spin : input rank-1 array('d') with bounds (nm)\n",
      "b20 : input rank-1 array('d') with bounds (nm)\n",
      "b22 : input rank-1 array('d') with bounds (nm)\n",
      "b40 : input rank-1 array('d') with bounds (nm)\n",
      "b44 : input rank-1 array('d') with bounds (nm)\n",
      "jexch : input rank-2 array('d') with bounds (np,3)\n",
      "mol1 : input rank-1 array('i') with bounds (np)\n",
      "mol2 : input rank-1 array('i') with bounds (np)\n",
      "n : input int\n",
      "\n",
      "Returns\n",
      "-------\n",
      "lambda : rank-3 array('D') with bounds (n,n,2)\n",
      "delta : rank-2 array('d') with bounds (n,n)\n",
      "h : rank-2 array('D') with bounds (n,n)\n",
      "w : rank-1 array('d') with bounds (n)\n",
      "ss : rank-4 array('D') with bounds (nm,4,n,n)\n",
      "\n"
     ]
    }
   ],
   "source": [
    "print(PyTimeESR.fortran.h_qd.hamiltonian.__doc__)"
   ]
  },
  {
   "cell_type": "code",
   "execution_count": 3,
   "metadata": {},
   "outputs": [
    {
     "name": "stdout",
     "output_type": "stream",
     "text": [
      " \n",
      " Key energies for transport:\n",
      " Ionization energy:  -10.000000000000000     \n",
      " Coulomb repulsion:  -30.000000000000000     \n",
      " On site energy plus Ionization:  -40.000000000000000     \n",
      " \n"
     ]
    }
   ],
   "source": [
    "#print(PyTimeESR.fortran.h_qd.create_basis.__doc__)\n",
    "hloc = [[.20521208599540122487, 0, .56381557247154503586]]\n",
    "gyro = [[2.,2.,2.]]\n",
    "spinaxis = [[0.,0.,1.]]\n",
    "Jexc = [[0,0,0]]\n",
    "mol1 = [0]\n",
    "mol2 = [0]\n",
    "n, h_el, n_in, n_block = PyTimeESR.fortran.h_qd.create_basis(-10, -30, [1/2])\n",
    "\n"
   ]
  },
  {
   "cell_type": "code",
   "execution_count": null,
   "metadata": {},
   "outputs": [
    {
     "ename": "",
     "evalue": "",
     "output_type": "error",
     "traceback": [
      "\u001b[1;31mThe Kernel crashed while executing code in the current cell or a previous cell. \n",
      "\u001b[1;31mPlease review the code in the cell(s) to identify a possible cause of the failure. \n",
      "\u001b[1;31mClick <a href='https://aka.ms/vscodeJupyterKernelCrash'>here</a> for more info. \n",
      "\u001b[1;31mView Jupyter <a href='command:jupyter.viewOutput'>log</a> for further details."
     ]
    }
   ],
   "source": [
    "#PyTimeESR.fortran.h_qd.hamiltonian(n_in, n_block,hloc,spinaxis,gyro,[1/2], 0,0,0,0,Jexc, mol1,mol2,n)"
   ]
  },
  {
   "cell_type": "code",
   "execution_count": 4,
   "metadata": {},
   "outputs": [
    {
     "name": "stdout",
     "output_type": "stream",
     "text": [
      "Overlap\n",
      "overlapvluj,overlapjulv = orbital_overlaps(lambda,j,u,g_up,g_dn)\n",
      "\n",
      "Wrapper for ``orbital_overlaps``.\n",
      "\n",
      "Parameters\n",
      "----------\n",
      "lambda : input rank-3 array('D') with bounds (ndim,ndim,orb)\n",
      "j : input int\n",
      "u : input int\n",
      "g_up : input complex\n",
      "g_dn : input complex\n",
      "\n",
      "Returns\n",
      "-------\n",
      "overlapvluj : rank-2 array('D') with bounds (ndim,ndim)\n",
      "overlapjulv : rank-2 array('D') with bounds (ndim,ndim)\n",
      "\n"
     ]
    }
   ],
   "source": [
    "print('Overlap')\n",
    "print(PyTimeESR.fortran.qme_f.orbital_overlaps.__doc__)"
   ]
  },
  {
   "cell_type": "code",
   "execution_count": 5,
   "metadata": {},
   "outputs": [
    {
     "name": "stdout",
     "output_type": "stream",
     "text": [
      "Rates\n",
      "ga,gca = rates(frequency,gamma_0,lambda,spin_polarization,nf,p_max,adrive,bdrive,gammac,bias,delta,cutoff,temperature,n_int,transport_exponent)\n",
      "\n",
      "Wrapper for ``rates``.\n",
      "\n",
      "Parameters\n",
      "----------\n",
      "frequency : input float\n",
      "gamma_0 : input float\n",
      "lambda : input rank-3 array('D') with bounds (ndim,ndim,orb)\n",
      "spin_polarization : input float\n",
      "nf : input int\n",
      "p_max : input int\n",
      "adrive : input complex\n",
      "bdrive : input float\n",
      "gammac : input complex\n",
      "bias : input float\n",
      "delta : input rank-2 array('D') with bounds (ndim,ndim)\n",
      "cutoff : input float\n",
      "temperature : input float\n",
      "n_int : input int\n",
      "transport_exponent : input float\n",
      "\n",
      "Returns\n",
      "-------\n",
      "ga : rank-5 array('D') with bounds (ndim,ndim,ndim,ndim,nf)\n",
      "gca : rank-5 array('D') with bounds (ndim,ndim,ndim,ndim,nf)\n",
      "\n"
     ]
    }
   ],
   "source": [
    "print('Rates')\n",
    "print(PyTimeESR.fortran.qme_f.rates.__doc__)"
   ]
  },
  {
   "cell_type": "code",
   "execution_count": 6,
   "metadata": {},
   "outputs": [
    {
     "name": "stdout",
     "output_type": "stream",
     "text": [
      "Matrix Coeff\n",
      "rho = coeff_matrix(frequency,g)\n",
      "\n",
      "Wrapper for ``coeff_matrix``.\n",
      "\n",
      "Parameters\n",
      "----------\n",
      "frequency : input float\n",
      "g : input rank-6 array('D') with bounds (ndim,ndim,ndim,ndim,nf,2)\n",
      "\n",
      "Returns\n",
      "-------\n",
      "rho : rank-3 array('D') with bounds (ndim,ndim,nf)\n",
      "\n"
     ]
    }
   ],
   "source": [
    "print('Matrix Coeff')\n",
    "print(PyTimeESR.fortran.matrix_coeff.coeff_matrix.__doc__)"
   ]
  }
 ],
 "metadata": {
  "kernelspec": {
   "display_name": "pyscf-env",
   "language": "python",
   "name": "python3"
  },
  "language_info": {
   "codemirror_mode": {
    "name": "ipython",
    "version": 3
   },
   "file_extension": ".py",
   "mimetype": "text/x-python",
   "name": "python",
   "nbconvert_exporter": "python",
   "pygments_lexer": "ipython3",
   "version": "3.9.21"
  }
 },
 "nbformat": 4,
 "nbformat_minor": 2
}
